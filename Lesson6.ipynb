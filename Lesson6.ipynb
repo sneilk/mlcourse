{
 "cells": [
  {
   "cell_type": "markdown",
   "metadata": {},
   "source": [
    "Competition on Kaggle: https://www.kaggle.com/c/how-good-is-your-medium-article/leaderboard"
   ]
  },
  {
   "cell_type": "code",
   "execution_count": 1,
   "metadata": {},
   "outputs": [],
   "source": [
    "import os\n",
    "import codecs\n",
    "import json\n",
    "import seaborn as sns\n",
    "from tqdm import tqdm_notebook\n",
    "import numpy as np\n",
    "import pandas as pd\n",
    "from sklearn.feature_extraction.text import TfidfVectorizer\n",
    "from sklearn.metrics import mean_absolute_error\n",
    "from scipy.sparse import csr_matrix, hstack\n",
    "from sklearn.linear_model import Ridge\n",
    "\n",
    "from sklearn.feature_extraction.text import CountVectorizer\n",
    "from sklearn.feature_extraction.text import TfidfTransformer\n",
    "from sklearn.pipeline import Pipeline\n",
    "from sklearn.naive_bayes import MultinomialNB"
   ]
  },
  {
   "cell_type": "code",
   "execution_count": 2,
   "metadata": {},
   "outputs": [],
   "source": [
    "from html.parser import HTMLParser\n",
    "\n",
    "class MLStripper(HTMLParser):\n",
    "    def __init__(self):\n",
    "        self.reset()\n",
    "        self.strict = False\n",
    "        self.convert_charrefs= True\n",
    "        self.fed = []\n",
    "    def handle_data(self, d):\n",
    "        self.fed.append(d)\n",
    "    def get_data(self):\n",
    "        return ' '.join(self.fed)\n",
    "\n",
    "def strip_tags(html):\n",
    "    s = MLStripper()\n",
    "    s.feed(html)\n",
    "    return s.get_data()"
   ]
  },
  {
   "cell_type": "code",
   "execution_count": 3,
   "metadata": {},
   "outputs": [],
   "source": [
    "def read_json_line(line=None):\n",
    "    result = None\n",
    "    try:        \n",
    "        result = json.loads(line)\n",
    "    except Exception as e:      \n",
    "        # Find the offending character index:\n",
    "        idx_to_replace = int(str(e).split(' ')[-1].replace(')',''))      \n",
    "        # Remove the offending character:\n",
    "        new_line = list(line)\n",
    "        new_line[idx_to_replace] = ' '\n",
    "        new_line = ''.join(new_line)     \n",
    "        return read_json_line(line=new_line)\n",
    "    return result"
   ]
  },
  {
   "cell_type": "code",
   "execution_count": 8,
   "metadata": {},
   "outputs": [],
   "source": [
    "def extract_features_and_write(path_to_data,\n",
    "                               inp_filename, is_train=True):\n",
    "    ident = 0\n",
    "    features = ['content', 'published', 'title', 'author']\n",
    "    prefix = 'train' if is_train else 'test'\n",
    "    feature_files = [open(os.path.join(path_to_data,\n",
    "                                       '{}_{}.txt'.format(prefix, feat)),\n",
    "                          'w', encoding=\"utf-8\")\n",
    "                     for feat in features]\n",
    " \n",
    "    with open(os.path.join(path_to_data, inp_filename), \n",
    "              encoding='utf-8') as inp_json_file:\n",
    "    \n",
    "        for line in tqdm_notebook(inp_json_file):\n",
    "            dict_data = {}\n",
    "            json_data = read_json_line(line)\n",
    "            for i in range(len(feature_files)):\n",
    "                dict_data[ident] = json_data[features[i]]\n",
    "                feature_files[i].write(str(dict_data) + '\\n')\n",
    "            ident += 1\n",
    "    for i in feature_files:\n",
    "        i.close()"
   ]
  },
  {
   "cell_type": "code",
   "execution_count": 9,
   "metadata": {},
   "outputs": [],
   "source": [
    "PATH_TO_DATA = 'C:\\mlcourse\\Databases\\kaggle_medium'"
   ]
  },
  {
   "cell_type": "code",
   "execution_count": 10,
   "metadata": {},
   "outputs": [
    {
     "data": {
      "application/vnd.jupyter.widget-view+json": {
       "model_id": "89486bc1e6c64596adac696143363825",
       "version_major": 2,
       "version_minor": 0
      },
      "text/plain": [
       "HBox(children=(IntProgress(value=1, bar_style='info', max=1), HTML(value='')))"
      ]
     },
     "metadata": {},
     "output_type": "display_data"
    },
    {
     "name": "stdout",
     "output_type": "stream",
     "text": [
      "\n"
     ]
    }
   ],
   "source": [
    "extract_features_and_write(PATH_TO_DATA, 'train.json', is_train=True)"
   ]
  },
  {
   "cell_type": "code",
   "execution_count": 12,
   "metadata": {},
   "outputs": [
    {
     "data": {
      "application/vnd.jupyter.widget-view+json": {
       "model_id": "ecb47d40457843808d7706efe934b969",
       "version_major": 2,
       "version_minor": 0
      },
      "text/plain": [
       "HBox(children=(IntProgress(value=1, bar_style='info', max=1), HTML(value='')))"
      ]
     },
     "metadata": {},
     "output_type": "display_data"
    },
    {
     "name": "stdout",
     "output_type": "stream",
     "text": [
      "\n"
     ]
    }
   ],
   "source": [
    "extract_features_and_write(PATH_TO_DATA, 'test.json', is_train=False)"
   ]
  },
  {
   "cell_type": "markdown",
   "metadata": {},
   "source": [
    "## Add the following groups of features:\n",
    "\n",
    "- Tf-Idf with article content (ngram_range=(1, 2), max_features=100000 but you can try adding more)\n",
    "- Tf-Idf with article titles (ngram_range=(1, 2), max_features=100000 but you can try adding more)\n",
    "- Time features: publication hour, whether it's morning, day, night, whether it's a weekend\n",
    "- Bag of authors (i.e. One-Hot-Encoded author names)"
   ]
  },
  {
   "cell_type": "code",
   "execution_count": 13,
   "metadata": {},
   "outputs": [],
   "source": [
    "prefix = 'train'\n",
    "features = ['content', 'published', 'title', 'author']\n",
    "\n",
    "l_files = [os.path.join(PATH_TO_DATA,\n",
    "                                       '{}_{}.txt'.format(prefix, feat))   \n",
    "                     for feat in features]"
   ]
  },
  {
   "cell_type": "code",
   "execution_count": 16,
   "metadata": {
    "scrolled": true
   },
   "outputs": [
    {
     "name": "stdout",
     "output_type": "stream",
     "text": [
      "Wall time: 0 ns\n",
      "Wall time: 0 ns\n",
      "Wall time: 0 ns\n",
      "Wall time: 0 ns\n",
      "Wall time: 7min 26s\n"
     ]
    }
   ],
   "source": [
    "%%time\n",
    "df = pd.DataFrame({})\n",
    "for k in range(0, len(features)):\n",
    "    f = codecs.open(l_files[k], \"r\", \"utf-8\")\n",
    "    arr = []\n",
    "    count = 0\n",
    "    for line in f:\n",
    "        count += 1\n",
    "        arr.append(list(eval(line[:-2]).values())[0])\n",
    "    f.close()\n",
    "    ser_buf = pd.Series(arr)\n",
    "    df[features[k]] = ser_buf"
   ]
  },
  {
   "cell_type": "code",
   "execution_count": 17,
   "metadata": {},
   "outputs": [],
   "source": [
    "df['content'] = df['content'].map(strip_tags)    "
   ]
  },
  {
   "cell_type": "markdown",
   "metadata": {},
   "source": [
    "## Strip content: \\xa0, \\u200b"
   ]
  },
  {
   "cell_type": "code",
   "execution_count": 18,
   "metadata": {},
   "outputs": [
    {
     "data": {
      "text/html": [
       "<div>\n",
       "<style scoped>\n",
       "    .dataframe tbody tr th:only-of-type {\n",
       "        vertical-align: middle;\n",
       "    }\n",
       "\n",
       "    .dataframe tbody tr th {\n",
       "        vertical-align: top;\n",
       "    }\n",
       "\n",
       "    .dataframe thead th {\n",
       "        text-align: right;\n",
       "    }\n",
       "</style>\n",
       "<table border=\"1\" class=\"dataframe\">\n",
       "  <thead>\n",
       "    <tr style=\"text-align: right;\">\n",
       "      <th></th>\n",
       "      <th>content</th>\n",
       "      <th>published</th>\n",
       "      <th>title</th>\n",
       "      <th>author</th>\n",
       "    </tr>\n",
       "  </thead>\n",
       "  <tbody>\n",
       "    <tr>\n",
       "      <th>0</th>\n",
       "      <td>Medium Everyone’s stories and ideas Aug 13, 20...</td>\n",
       "      <td>{'$date': '2012-08-13T22:54:53.510Z'}</td>\n",
       "      <td>Medium Terms of Service – Medium Policy – Medium</td>\n",
       "      <td>{'name': None, 'url': 'https://medium.com/@Med...</td>\n",
       "    </tr>\n",
       "    <tr>\n",
       "      <th>1</th>\n",
       "      <td>Medium Everyone’s stories and ideas Aug 2, 201...</td>\n",
       "      <td>{'$date': '2015-08-03T07:44:50.331Z'}</td>\n",
       "      <td>Amendment to Medium Terms of Service Applicabl...</td>\n",
       "      <td>{'name': None, 'url': 'https://medium.com/@Med...</td>\n",
       "    </tr>\n",
       "    <tr>\n",
       "      <th>2</th>\n",
       "      <td>Yun-Chen Chien（簡韻真） Nobody in @g0v.tw, PM in s...</td>\n",
       "      <td>{'$date': '2017-02-05T13:08:17.410Z'}</td>\n",
       "      <td>走入山與海之間：閩東大刀會和兩岸走私 – Yun-Chen Chien（簡韻真） – Medium</td>\n",
       "      <td>{'name': None, 'url': 'https://medium.com/@ael...</td>\n",
       "    </tr>\n",
       "    <tr>\n",
       "      <th>3</th>\n",
       "      <td>Vaibhav Khulbe Android App Developer | I write...</td>\n",
       "      <td>{'$date': '2017-05-06T08:16:30.776Z'}</td>\n",
       "      <td>How fast can a camera get? – What comes to min...</td>\n",
       "      <td>{'name': None, 'url': 'https://medium.com/@vai...</td>\n",
       "    </tr>\n",
       "    <tr>\n",
       "      <th>4</th>\n",
       "      <td>Vaibhav Khulbe Android App Developer | I write...</td>\n",
       "      <td>{'$date': '2017-06-04T14:46:25.772Z'}</td>\n",
       "      <td>A game for the lonely fox – What comes to mind...</td>\n",
       "      <td>{'name': None, 'url': 'https://medium.com/@vai...</td>\n",
       "    </tr>\n",
       "  </tbody>\n",
       "</table>\n",
       "</div>"
      ],
      "text/plain": [
       "                                             content  \\\n",
       "0  Medium Everyone’s stories and ideas Aug 13, 20...   \n",
       "1  Medium Everyone’s stories and ideas Aug 2, 201...   \n",
       "2  Yun-Chen Chien（簡韻真） Nobody in @g0v.tw, PM in s...   \n",
       "3  Vaibhav Khulbe Android App Developer | I write...   \n",
       "4  Vaibhav Khulbe Android App Developer | I write...   \n",
       "\n",
       "                               published  \\\n",
       "0  {'$date': '2012-08-13T22:54:53.510Z'}   \n",
       "1  {'$date': '2015-08-03T07:44:50.331Z'}   \n",
       "2  {'$date': '2017-02-05T13:08:17.410Z'}   \n",
       "3  {'$date': '2017-05-06T08:16:30.776Z'}   \n",
       "4  {'$date': '2017-06-04T14:46:25.772Z'}   \n",
       "\n",
       "                                               title  \\\n",
       "0   Medium Terms of Service – Medium Policy – Medium   \n",
       "1  Amendment to Medium Terms of Service Applicabl...   \n",
       "2  走入山與海之間：閩東大刀會和兩岸走私 – Yun-Chen Chien（簡韻真） – Medium   \n",
       "3  How fast can a camera get? – What comes to min...   \n",
       "4  A game for the lonely fox – What comes to mind...   \n",
       "\n",
       "                                              author  \n",
       "0  {'name': None, 'url': 'https://medium.com/@Med...  \n",
       "1  {'name': None, 'url': 'https://medium.com/@Med...  \n",
       "2  {'name': None, 'url': 'https://medium.com/@ael...  \n",
       "3  {'name': None, 'url': 'https://medium.com/@vai...  \n",
       "4  {'name': None, 'url': 'https://medium.com/@vai...  "
      ]
     },
     "execution_count": 18,
     "metadata": {},
     "output_type": "execute_result"
    }
   ],
   "source": []
  },
  {
   "cell_type": "markdown",
   "metadata": {},
   "source": [
    "## Division publications by hour, whether it's morning, day, night, whether it's a weekend\n"
   ]
  },
  {
   "cell_type": "code",
   "execution_count": 19,
   "metadata": {},
   "outputs": [],
   "source": [
    "for i in df.index:\n",
    "    df['published'][i] = list(df['published'].values[i].values())[0]"
   ]
  },
  {
   "cell_type": "markdown",
   "metadata": {},
   "source": [
    "#### Creating the columns date and time"
   ]
  },
  {
   "cell_type": "code",
   "execution_count": 31,
   "metadata": {},
   "outputs": [],
   "source": [
    "def pub_to_time(publicate):\n",
    "    return publicate[11:-5]\n",
    "\n",
    "def pub_to_date(publicate):\n",
    "    return publicate[:10] \n",
    "\n",
    "def time_to_sec(time_s):\n",
    "    return ((int(time_s[:2])* 60 * 60) + (int(time_s[3:5])) * 60 + (int(time_s[6:])))\n",
    "\n",
    "# may be need other division\n",
    "def sec_to_tofd(time_sec):\n",
    "    x = 3600\n",
    "    if(time_sec > 18 * x):\n",
    "        return 'E'\n",
    "    elif(time_sec > 12 * x):\n",
    "        return 'D'\n",
    "    elif(time_sec > 6 * x):\n",
    "        return 'M'\n",
    "    else:\n",
    "        return 'N'\n",
    "    \n",
    "def day_of_week(date):\n",
    "    "
   ]
  },
  {
   "cell_type": "code",
   "execution_count": 21,
   "metadata": {},
   "outputs": [],
   "source": [
    "df['date'] = df['published'].map(pub_to_date)\n",
    "df['time'] = df['published'].map(pub_to_time)\n",
    "df['time_sec'] = df['time'].map(time_to_sec)\n",
    "df['time_of_day'] = df['time_sec'].map(sec_to_tofd)\n",
    "df['week_day'] = df['date'].map(day_of_week)"
   ]
  },
  {
   "cell_type": "code",
   "execution_count": 36,
   "metadata": {},
   "outputs": [
    {
     "data": {
      "text/plain": [
       "D    22938\n",
       "E    18693\n",
       "M    10913\n",
       "N     9769\n",
       "Name: time_of_day, dtype: int64"
      ]
     },
     "execution_count": 36,
     "metadata": {},
     "output_type": "execute_result"
    }
   ],
   "source": [
    "df['time_of_day'].value_counts()"
   ]
  },
  {
   "cell_type": "code",
   "execution_count": null,
   "metadata": {},
   "outputs": [],
   "source": []
  },
  {
   "cell_type": "code",
   "execution_count": null,
   "metadata": {},
   "outputs": [],
   "source": []
  },
  {
   "cell_type": "code",
   "execution_count": null,
   "metadata": {},
   "outputs": [],
   "source": []
  },
  {
   "cell_type": "code",
   "execution_count": null,
   "metadata": {},
   "outputs": [],
   "source": []
  },
  {
   "cell_type": "code",
   "execution_count": null,
   "metadata": {},
   "outputs": [],
   "source": []
  },
  {
   "cell_type": "markdown",
   "metadata": {},
   "source": [
    "## Creating Tf-Idf with article titles (ngram_range=(1, 2), max_features=100000 but you can try adding more)"
   ]
  },
  {
   "cell_type": "code",
   "execution_count": null,
   "metadata": {
    "scrolled": true
   },
   "outputs": [],
   "source": []
  },
  {
   "cell_type": "code",
   "execution_count": 53,
   "metadata": {},
   "outputs": [
    {
     "data": {
      "text/plain": [
       "(62313, 100000)"
      ]
     },
     "execution_count": 53,
     "metadata": {},
     "output_type": "execute_result"
    }
   ],
   "source": [
    "count_vect = CountVectorizer(ngram_range=(1, 2), max_features= 100000)\n",
    "X_train_counts = count_vect.fit_transform(df.title)\n",
    "X_train_counts.shape"
   ]
  },
  {
   "cell_type": "code",
   "execution_count": 31,
   "metadata": {},
   "outputs": [
    {
     "data": {
      "text/plain": [
       "(62313, 66033)"
      ]
     },
     "execution_count": 31,
     "metadata": {},
     "output_type": "execute_result"
    }
   ],
   "source": [
    "tf_transformer = TfidfTransformer(use_idf=False).fit(X_train_counts)\n",
    "X_train_tf = tf_transformer.transform(X_train_counts)\n",
    "X_train_tf.shape"
   ]
  },
  {
   "cell_type": "code",
   "execution_count": 32,
   "metadata": {},
   "outputs": [
    {
     "data": {
      "text/plain": [
       "(62313, 66033)"
      ]
     },
     "execution_count": 32,
     "metadata": {},
     "output_type": "execute_result"
    }
   ],
   "source": [
    "tfidf_transformer = TfidfTransformer()\n",
    "X_train_tfidf = tfidf_transformer.fit_transform(X_train_counts)\n",
    "X_train_tfidf.shape"
   ]
  },
  {
   "cell_type": "code",
   "execution_count": 33,
   "metadata": {},
   "outputs": [],
   "source": []
  },
  {
   "cell_type": "code",
   "execution_count": null,
   "metadata": {},
   "outputs": [],
   "source": []
  },
  {
   "cell_type": "code",
   "execution_count": null,
   "metadata": {},
   "outputs": [],
   "source": []
  },
  {
   "cell_type": "code",
   "execution_count": null,
   "metadata": {},
   "outputs": [],
   "source": [
    "clf = MultinomialNB().fit(X_train_tfidf, twenty_train.target)\n",
    "docs_new = ['God is love', 'OpenGL on the GPU is fast']\n",
    "X_new_counts = count_vect.transform(docs_new)\n",
    "X_new_tfidf = tfidf_transformer.transform(X_new_counts)\n",
    "predicted = clf.predict(X_new_tfidf)\n",
    "for doc, category in zip(docs_new, predicted):\n",
    "    print('%r => %s' % (doc, twenty_train.target_names[category]))\n",
    "    \n",
    "text_clf = Pipeline([('vect', CountVectorizer()),\n",
    "                   ('tfidf', TfidfTransformer()),\n",
    "                   ('clf', MultinomialNB()),\n",
    "])\n",
    "text_clf = text_clf.fit(twenty_train.data, twenty_train.target)\n",
    "twenty_test = fetch_20newsgroups(subset='test',\n",
    "     categories=categories, shuffle=True, random_state=42)\n",
    "docs_test = twenty_test.data\n",
    "predicted = text_clf.predict(docs_test)\n",
    "np.mean(predicted == twenty_test.target)    \n",
    "\n",
    "text_clf = Pipeline([('vect', CountVectorizer()),\n",
    "                      ('tfidf', TfidfTransformer()),\n",
    "                      ('clf', SGDClassifier(loss='hinge', penalty='l2',\n",
    "                                            alpha=1e-3, n_iter=5, random_state=42)),\n",
    "    ])\n",
    "_ = text_clf.fit(twenty_train.data, twenty_train.target)\n",
    "predicted = text_clf.predict(docs_test)\n",
    "np.mean(predicted == twenty_test.target)"
   ]
  },
  {
   "cell_type": "code",
   "execution_count": null,
   "metadata": {},
   "outputs": [],
   "source": []
  }
 ],
 "metadata": {
  "kernelspec": {
   "display_name": "Python 3",
   "language": "python",
   "name": "python3"
  },
  "language_info": {
   "codemirror_mode": {
    "name": "ipython",
    "version": 3
   },
   "file_extension": ".py",
   "mimetype": "text/x-python",
   "name": "python",
   "nbconvert_exporter": "python",
   "pygments_lexer": "ipython3",
   "version": "3.6.5"
  }
 },
 "nbformat": 4,
 "nbformat_minor": 2
}
