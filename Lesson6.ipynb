{
 "cells": [
  {
   "cell_type": "markdown",
   "metadata": {},
   "source": [
    "Competition on Kaggle: https://www.kaggle.com/c/how-good-is-your-medium-article/leaderboard"
   ]
  },
  {
   "cell_type": "code",
   "execution_count": 1,
   "metadata": {},
   "outputs": [],
   "source": [
    "import os\n",
    "import codecs\n",
    "import json\n",
    "from tqdm import tqdm_notebook\n",
    "import numpy as np\n",
    "import pandas as pd\n",
    "from sklearn.feature_extraction.text import TfidfVectorizer\n",
    "from sklearn.metrics import mean_absolute_error\n",
    "from scipy.sparse import csr_matrix, hstack\n",
    "from sklearn.linear_model import Ridge\n",
    "\n",
    "from sklearn.feature_extraction.text import CountVectorizer\n",
    "from sklearn.feature_extraction.text import TfidfTransformer\n",
    "from sklearn.pipeline import Pipeline\n",
    "from sklearn.naive_bayes import MultinomialNB"
   ]
  },
  {
   "cell_type": "code",
   "execution_count": 92,
   "metadata": {},
   "outputs": [],
   "source": [
    "from html.parser import HTMLParser\n",
    "\n",
    "class MLStripper(HTMLParser):\n",
    "    def __init__(self):\n",
    "        self.reset()\n",
    "        self.strict = False\n",
    "        self.convert_charrefs= True\n",
    "        self.fed = []\n",
    "    def handle_data(self, d):\n",
    "        self.fed.append(d)\n",
    "    def get_data(self):\n",
    "        return ' '.join(self.fed)\n",
    "\n",
    "def strip_tags(html):\n",
    "    s = MLStripper()\n",
    "    s.feed(html)\n",
    "    return s.get_data()"
   ]
  },
  {
   "cell_type": "code",
   "execution_count": 3,
   "metadata": {},
   "outputs": [],
   "source": [
    "def read_json_line(line=None):\n",
    "    result = None\n",
    "    try:        \n",
    "        result = json.loads(line)\n",
    "    except Exception as e:      \n",
    "        # Find the offending character index:\n",
    "        idx_to_replace = int(str(e).split(' ')[-1].replace(')',''))      \n",
    "        # Remove the offending character:\n",
    "        new_line = list(line)\n",
    "        new_line[idx_to_replace] = ' '\n",
    "        new_line = ''.join(new_line)     \n",
    "        return read_json_line(line=new_line)\n",
    "    return result"
   ]
  },
  {
   "cell_type": "code",
   "execution_count": 4,
   "metadata": {},
   "outputs": [],
   "source": [
    "def extract_features_and_write(path_to_data,\n",
    "                               inp_filename, is_train=True):\n",
    "    ident = 0\n",
    "    features = ['content', 'published', 'title', 'author']\n",
    "    prefix = 'train' if is_train else 'test'\n",
    "    feature_files = [open(os.path.join(path_to_data,\n",
    "                                       '{}_{}.txt'.format(prefix, feat)),\n",
    "                          'w', encoding=\"utf-8\")\n",
    "                     for feat in features]\n",
    "    feature_light_files = [open(os.path.join(path_to_data,\n",
    "                                       '{}_{}_light.txt'.format(prefix, feat)),\n",
    "                          'w', encoding=\"utf-8\")                     \n",
    "                     for feat in features]\n",
    "    \n",
    "    with open(os.path.join(path_to_data, inp_filename), \n",
    "              encoding='utf-8') as inp_json_file:\n",
    "    \n",
    "        for line in tqdm_notebook(inp_json_file):\n",
    "            dict_data = {}\n",
    "            json_data = read_json_line(line)\n",
    "            for i in range(len(feature_files)):\n",
    "                dict_data[ident] = json_data[features[i]]\n",
    "                feature_files[i].write(str(dict_data) + '\\n')\n",
    "                if (ident < 5000):\n",
    "                    feature_light_files[i].write(str(dict_data) + '\\n')\n",
    "            ident += 1\n",
    "    for i in feature_light_files:\n",
    "        i.close()\n",
    "    for i in feature_files:\n",
    "        i.close()"
   ]
  },
  {
   "cell_type": "code",
   "execution_count": 5,
   "metadata": {},
   "outputs": [],
   "source": [
    "PATH_TO_DATA = 'C:\\mlcourse\\Databases\\kaggle_medium'"
   ]
  },
  {
   "cell_type": "code",
   "execution_count": 6,
   "metadata": {},
   "outputs": [
    {
     "data": {
      "application/vnd.jupyter.widget-view+json": {
       "model_id": "5d1dcb7416c348a3b1d72ea64b133afa",
       "version_major": 2,
       "version_minor": 0
      },
      "text/plain": [
       "HBox(children=(IntProgress(value=1, bar_style='info', max=1), HTML(value='')))"
      ]
     },
     "metadata": {},
     "output_type": "display_data"
    },
    {
     "name": "stdout",
     "output_type": "stream",
     "text": [
      "\n"
     ]
    }
   ],
   "source": [
    "extract_features_and_write(PATH_TO_DATA, 'train.json', is_train=True)"
   ]
  },
  {
   "cell_type": "code",
   "execution_count": 7,
   "metadata": {},
   "outputs": [
    {
     "data": {
      "application/vnd.jupyter.widget-view+json": {
       "model_id": "6e5fbe10ff46433db967b73af00d5117",
       "version_major": 2,
       "version_minor": 0
      },
      "text/plain": [
       "HBox(children=(IntProgress(value=1, bar_style='info', max=1), HTML(value='')))"
      ]
     },
     "metadata": {},
     "output_type": "display_data"
    },
    {
     "name": "stdout",
     "output_type": "stream",
     "text": [
      "\n"
     ]
    }
   ],
   "source": [
    "extract_features_and_write(PATH_TO_DATA, 'test.json', is_train=False)"
   ]
  },
  {
   "cell_type": "markdown",
   "metadata": {},
   "source": [
    "## Add the following groups of features:\n",
    "\n",
    "- Tf-Idf with article content (ngram_range=(1, 2), max_features=100000 but you can try adding more)\n",
    "- Tf-Idf with article titles (ngram_range=(1, 2), max_features=100000 but you can try adding more)\n",
    "- Time features: publication hour, whether it's morning, day, night, whether it's a weekend\n",
    "- Bag of authors (i.e. One-Hot-Encoded author names)"
   ]
  },
  {
   "cell_type": "code",
   "execution_count": 20,
   "metadata": {},
   "outputs": [],
   "source": [
    "prefix = 'train'\n",
    "features = ['content', 'published', 'title', 'author']\n",
    "\n",
    "l_files = [os.path.join(PATH_TO_DATA,\n",
    "                                       '{}_{}_light.txt'.format(prefix, feat))   \n",
    "                     for feat in features]"
   ]
  },
  {
   "cell_type": "code",
   "execution_count": 148,
   "metadata": {
    "scrolled": true
   },
   "outputs": [
    {
     "name": "stdout",
     "output_type": "stream",
     "text": [
      "Wall time: 31.5 s\n"
     ]
    }
   ],
   "source": [
    "%%time\n",
    "df = pd.DataFrame({})\n",
    "for k in range(0, len(features)):\n",
    "    f = codecs.open(l_files[k], \"r\", \"utf-8\")\n",
    "    arr = []\n",
    "    count = 0\n",
    "    for line in f:\n",
    "        count += 1\n",
    "        arr.append(list(eval(line[:-2]).values())[0])\n",
    "    f.close()\n",
    "    ser_buf = pd.Series(arr)\n",
    "    df[features[k]] = ser_buf\n",
    "df['content'] = df['content'].map(strip_tags)    "
   ]
  },
  {
   "cell_type": "markdown",
   "metadata": {},
   "source": [
    "## Strip content: \\xa0, \\u200b"
   ]
  },
  {
   "cell_type": "code",
   "execution_count": null,
   "metadata": {},
   "outputs": [],
   "source": []
  },
  {
   "cell_type": "markdown",
   "metadata": {},
   "source": [
    "## Division publications by hour, whether it's morning, day, night, whether it's a weekend\n"
   ]
  },
  {
   "cell_type": "code",
   "execution_count": 150,
   "metadata": {},
   "outputs": [],
   "source": [
    "for i in df.index:\n",
    "    df['published'][i] = list(df['published'].values[i].values())[0]"
   ]
  },
  {
   "cell_type": "code",
   "execution_count": 152,
   "metadata": {},
   "outputs": [
    {
     "data": {
      "text/plain": [
       "0       2012-08-13T22:54:53.510Z\n",
       "1       2015-08-03T07:44:50.331Z\n",
       "2       2017-02-05T13:08:17.410Z\n",
       "3       2017-05-06T08:16:30.776Z\n",
       "4       2017-06-04T14:46:25.772Z\n",
       "5       2017-04-02T16:21:15.171Z\n",
       "6       2016-08-15T04:16:02.103Z\n",
       "7       2015-01-14T21:31:07.568Z\n",
       "8       2014-02-11T04:11:54.771Z\n",
       "9       2015-10-25T02:58:05.551Z\n",
       "10      2016-08-15T15:31:13.601Z\n",
       "11      2016-08-09T21:01:06.303Z\n",
       "12      2016-09-08T15:47:57.336Z\n",
       "13      2016-09-30T18:05:35.950Z\n",
       "14      2017-06-27T15:49:22.909Z\n",
       "15      2015-07-13T06:52:44.618Z\n",
       "16      2017-05-01T13:22:43.785Z\n",
       "17      2016-08-31T17:11:24.263Z\n",
       "18      2017-06-30T07:55:55.103Z\n",
       "19      2016-12-13T23:29:35.556Z\n",
       "20      2016-01-27T22:19:05.027Z\n",
       "21      2016-12-14T01:15:02.122Z\n",
       "22      2016-09-05T22:02:40.326Z\n",
       "23      2016-12-13T17:59:40.527Z\n",
       "24      2017-05-02T17:28:39.120Z\n",
       "25      2016-08-30T23:43:24.940Z\n",
       "26      2017-04-26T02:50:29.511Z\n",
       "27      2016-06-18T06:54:10.331Z\n",
       "28      2016-05-17T17:52:00.960Z\n",
       "29      2017-04-17T16:29:28.306Z\n",
       "                  ...           \n",
       "4970    2015-11-16T00:27:29.401Z\n",
       "4971    2015-11-30T00:00:28.639Z\n",
       "4972    2015-12-02T02:43:53.010Z\n",
       "4973    2015-07-29T22:07:02.697Z\n",
       "4974    2015-09-22T15:46:05.538Z\n",
       "4975    2015-10-21T21:01:05.812Z\n",
       "4976    2016-10-28T14:14:51.342Z\n",
       "4977    2015-01-22T01:49:32.006Z\n",
       "4978    2016-09-26T07:20:47.629Z\n",
       "4979    2017-01-22T13:01:11.777Z\n",
       "4980    2015-06-01T15:00:17.104Z\n",
       "4981    2015-06-07T22:05:04.336Z\n",
       "4982    2015-05-16T18:03:10.181Z\n",
       "4983    2015-09-23T14:56:59.825Z\n",
       "4984    2016-08-07T23:20:06.617Z\n",
       "4985    2015-01-10T18:09:09.351Z\n",
       "4986    2015-08-01T06:49:09.925Z\n",
       "4987    2016-07-09T07:55:30.600Z\n",
       "4988    2016-10-22T20:20:14.982Z\n",
       "4989    2016-01-29T13:02:16.808Z\n",
       "4990    2017-02-16T17:10:43.196Z\n",
       "4991    2017-04-10T20:23:52.007Z\n",
       "4992    2017-05-06T13:31:50.204Z\n",
       "4993    2017-04-23T04:48:41.632Z\n",
       "4994    2017-06-13T13:55:19.796Z\n",
       "4995    2017-06-01T01:04:51.058Z\n",
       "4996    2016-06-11T04:36:01.706Z\n",
       "4997    2016-03-18T15:55:31.865Z\n",
       "4998    2015-11-03T16:58:16.277Z\n",
       "4999    2015-10-27T13:12:53.227Z\n",
       "Name: published, Length: 5000, dtype: object"
      ]
     },
     "execution_count": 152,
     "metadata": {},
     "output_type": "execute_result"
    }
   ],
   "source": [
    "df['published']"
   ]
  },
  {
   "cell_type": "code",
   "execution_count": null,
   "metadata": {},
   "outputs": [],
   "source": []
  },
  {
   "cell_type": "markdown",
   "metadata": {},
   "source": [
    "## Creating Tf-Idf with article titles (ngram_range=(1, 2), max_features=100000 but you can try adding more)"
   ]
  },
  {
   "cell_type": "code",
   "execution_count": null,
   "metadata": {
    "scrolled": true
   },
   "outputs": [],
   "source": []
  },
  {
   "cell_type": "code",
   "execution_count": 53,
   "metadata": {},
   "outputs": [
    {
     "data": {
      "text/plain": [
       "(62313, 100000)"
      ]
     },
     "execution_count": 53,
     "metadata": {},
     "output_type": "execute_result"
    }
   ],
   "source": [
    "count_vect = CountVectorizer(ngram_range=(1, 2), max_features= 100000)\n",
    "X_train_counts = count_vect.fit_transform(df.title)\n",
    "X_train_counts.shape"
   ]
  },
  {
   "cell_type": "code",
   "execution_count": 31,
   "metadata": {},
   "outputs": [
    {
     "data": {
      "text/plain": [
       "(62313, 66033)"
      ]
     },
     "execution_count": 31,
     "metadata": {},
     "output_type": "execute_result"
    }
   ],
   "source": [
    "tf_transformer = TfidfTransformer(use_idf=False).fit(X_train_counts)\n",
    "X_train_tf = tf_transformer.transform(X_train_counts)\n",
    "X_train_tf.shape"
   ]
  },
  {
   "cell_type": "code",
   "execution_count": 32,
   "metadata": {},
   "outputs": [
    {
     "data": {
      "text/plain": [
       "(62313, 66033)"
      ]
     },
     "execution_count": 32,
     "metadata": {},
     "output_type": "execute_result"
    }
   ],
   "source": [
    "tfidf_transformer = TfidfTransformer()\n",
    "X_train_tfidf = tfidf_transformer.fit_transform(X_train_counts)\n",
    "X_train_tfidf.shape"
   ]
  },
  {
   "cell_type": "code",
   "execution_count": 33,
   "metadata": {},
   "outputs": [],
   "source": []
  },
  {
   "cell_type": "code",
   "execution_count": null,
   "metadata": {},
   "outputs": [],
   "source": []
  },
  {
   "cell_type": "code",
   "execution_count": null,
   "metadata": {},
   "outputs": [],
   "source": []
  },
  {
   "cell_type": "code",
   "execution_count": null,
   "metadata": {},
   "outputs": [],
   "source": [
    "clf = MultinomialNB().fit(X_train_tfidf, twenty_train.target)\n",
    "docs_new = ['God is love', 'OpenGL on the GPU is fast']\n",
    "X_new_counts = count_vect.transform(docs_new)\n",
    "X_new_tfidf = tfidf_transformer.transform(X_new_counts)\n",
    "predicted = clf.predict(X_new_tfidf)\n",
    "for doc, category in zip(docs_new, predicted):\n",
    "    print('%r => %s' % (doc, twenty_train.target_names[category]))\n",
    "    \n",
    "text_clf = Pipeline([('vect', CountVectorizer()),\n",
    "                   ('tfidf', TfidfTransformer()),\n",
    "                   ('clf', MultinomialNB()),\n",
    "])\n",
    "text_clf = text_clf.fit(twenty_train.data, twenty_train.target)\n",
    "twenty_test = fetch_20newsgroups(subset='test',\n",
    "     categories=categories, shuffle=True, random_state=42)\n",
    "docs_test = twenty_test.data\n",
    "predicted = text_clf.predict(docs_test)\n",
    "np.mean(predicted == twenty_test.target)    \n",
    "\n",
    "text_clf = Pipeline([('vect', CountVectorizer()),\n",
    "                      ('tfidf', TfidfTransformer()),\n",
    "                      ('clf', SGDClassifier(loss='hinge', penalty='l2',\n",
    "                                            alpha=1e-3, n_iter=5, random_state=42)),\n",
    "    ])\n",
    "_ = text_clf.fit(twenty_train.data, twenty_train.target)\n",
    "predicted = text_clf.predict(docs_test)\n",
    "np.mean(predicted == twenty_test.target)"
   ]
  },
  {
   "cell_type": "code",
   "execution_count": null,
   "metadata": {},
   "outputs": [],
   "source": []
  }
 ],
 "metadata": {
  "kernelspec": {
   "display_name": "Python 3",
   "language": "python",
   "name": "python3"
  },
  "language_info": {
   "codemirror_mode": {
    "name": "ipython",
    "version": 3
   },
   "file_extension": ".py",
   "mimetype": "text/x-python",
   "name": "python",
   "nbconvert_exporter": "python",
   "pygments_lexer": "ipython3",
   "version": "3.6.5"
  }
 },
 "nbformat": 4,
 "nbformat_minor": 2
}
