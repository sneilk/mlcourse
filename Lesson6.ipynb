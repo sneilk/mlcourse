{
 "cells": [
  {
   "cell_type": "markdown",
   "metadata": {},
   "source": [
    "Competition on Kaggle: https://www.kaggle.com/c/how-good-is-your-medium-article/leaderboard"
   ]
  },
  {
   "cell_type": "code",
   "execution_count": null,
   "metadata": {},
   "outputs": [],
   "source": [
    "import os\n",
    "import codecs\n",
    "import json\n",
    "from tqdm import tqdm_notebook\n",
    "import numpy as np\n",
    "import pandas as pd\n",
    "from sklearn.feature_extraction.text import TfidfVectorizer\n",
    "from sklearn.metrics import mean_absolute_error\n",
    "from scipy.sparse import csr_matrix, hstack\n",
    "from sklearn.linear_model import Ridge"
   ]
  },
  {
   "cell_type": "code",
   "execution_count": 252,
   "metadata": {},
   "outputs": [],
   "source": [
    "from html.parser import HTMLParser\n",
    "\n",
    "class MLStripper(HTMLParser):\n",
    "    def __init__(self):\n",
    "        self.reset()\n",
    "        self.strict = False\n",
    "        self.convert_charrefs= True\n",
    "        self.fed = []\n",
    "    def handle_data(self, d):\n",
    "        self.fed.append(d)\n",
    "    def get_data(self):\n",
    "        return ''.join(self.fed)\n",
    "\n",
    "def strip_tags(html):\n",
    "    s = MLStripper()\n",
    "    s.feed(html)\n",
    "    return s.get_data()"
   ]
  },
  {
   "cell_type": "code",
   "execution_count": 253,
   "metadata": {},
   "outputs": [],
   "source": [
    "def read_json_line(line=None):\n",
    "    result = None\n",
    "    try:        \n",
    "        result = json.loads(line)\n",
    "    except Exception as e:      \n",
    "        # Find the offending character index:\n",
    "        idx_to_replace = int(str(e).split(' ')[-1].replace(')',''))      \n",
    "        # Remove the offending character:\n",
    "        new_line = list(line)\n",
    "        new_line[idx_to_replace] = ' '\n",
    "        new_line = ''.join(new_line)     \n",
    "        return read_json_line(line=new_line)\n",
    "    return result"
   ]
  },
  {
   "cell_type": "code",
   "execution_count": 254,
   "metadata": {},
   "outputs": [],
   "source": [
    "def extract_features_and_write(path_to_data,\n",
    "                               inp_filename, is_train=True):\n",
    "    ident = 0\n",
    "    features = ['content', 'published', 'title', 'author']\n",
    "    prefix = 'train' if is_train else 'test'\n",
    "    feature_files = [open(os.path.join(path_to_data,\n",
    "                                       '{}_{}.txt'.format(prefix, feat)),\n",
    "                          'w', encoding=\"utf-8\")\n",
    "                     for feat in features]\n",
    "    feature_light_files = [open(os.path.join(path_to_data,\n",
    "                                       '{}_{}_light.txt'.format(prefix, feat)),\n",
    "                          'w', encoding=\"utf-8\")                     \n",
    "                     for feat in features]\n",
    "    \n",
    "    with open(os.path.join(path_to_data, inp_filename), \n",
    "              encoding='utf-8') as inp_json_file:\n",
    "    \n",
    "        for line in tqdm_notebook(inp_json_file):\n",
    "            dict_data = {}\n",
    "            json_data = read_json_line(line)\n",
    "            for i in range(len(feature_files)):\n",
    "                dict_data[ident] = json_data[features[i]]\n",
    "                feature_files[i].write(str(dict_data))\n",
    "                if (ident < 5000):\n",
    "                    feature_light_files[i].write(str(dict_data))\n",
    "            ident += 1\n",
    "    for i in feature_light_files:\n",
    "        i.close()\n",
    "    for i in feature_files:\n",
    "        i.close()"
   ]
  },
  {
   "cell_type": "code",
   "execution_count": 255,
   "metadata": {},
   "outputs": [],
   "source": [
    "PATH_TO_DATA = 'C:\\mlcourse\\Databases\\kaggle_medium'"
   ]
  },
  {
   "cell_type": "code",
   "execution_count": 256,
   "metadata": {},
   "outputs": [
    {
     "data": {
      "application/vnd.jupyter.widget-view+json": {
       "model_id": "79745494ed7b4e08a2d5d5b0ff9587a9",
       "version_major": 2,
       "version_minor": 0
      },
      "text/plain": [
       "HBox(children=(IntProgress(value=1, bar_style='info', max=1), HTML(value='')))"
      ]
     },
     "metadata": {},
     "output_type": "display_data"
    }
   ],
   "source": [
    "extract_features_and_write(PATH_TO_DATA, 'train.json', is_train=True)"
   ]
  },
  {
   "cell_type": "code",
   "execution_count": 257,
   "metadata": {},
   "outputs": [
    {
     "data": {
      "application/vnd.jupyter.widget-view+json": {
       "model_id": "24bf990938344610ac538d77fa32ba54",
       "version_major": 2,
       "version_minor": 0
      },
      "text/plain": [
       "HBox(children=(IntProgress(value=1, bar_style='info', max=1), HTML(value='')))"
      ]
     },
     "metadata": {},
     "output_type": "display_data"
    }
   ],
   "source": [
    "extract_features_and_write(PATH_TO_DATA, 'test.json', is_train=False)"
   ]
  },
  {
   "cell_type": "markdown",
   "metadata": {},
   "source": [
    "Add the following groups of features:\n",
    "\n",
    "- Tf-Idf with article content (ngram_range=(1, 2), max_features=100000 but you can try adding more)\n",
    "- Tf-Idf with article titles (ngram_range=(1, 2), max_features=100000 but you can try adding more)\n",
    "- Time features: publication hour, whether it's morning, day, night, whether it's a weekend\n",
    "- Bag of authors (i.e. One-Hot-Encoded author names)"
   ]
  },
  {
   "cell_type": "code",
   "execution_count": 303,
   "metadata": {},
   "outputs": [],
   "source": [
    "prefix = 'train'\n",
    "features = ['content', 'published', 'title', 'author']\n",
    "\n",
    "files = [os.path.join(PATH_TO_DATA,\n",
    "                                       '{}_{}.txt'.format(prefix, feat))                                         \n",
    "                     for feat in features]"
   ]
  },
  {
   "cell_type": "code",
   "execution_count": 304,
   "metadata": {},
   "outputs": [],
   "source": [
    "df = pd.DataFrame({})\n",
    "for k in range(1, len(features)):\n",
    "    array = ''\n",
    "    f = codecs.open(files[k], \"r\", \"utf-8\")\n",
    "    for file in f:\n",
    "        array += file\n",
    "        arr = array.split(\"}{\")\n",
    "    arr[0] = arr[0][1:]\n",
    "    arr[-1] = arr[-1][:-1]\n",
    "    for i in range(len(arr)):\n",
    "        arr[i] = \"{\" + arr[i] + \"}\"\n",
    "    data = []\n",
    "    for i in range(len(arr)):\n",
    "        data.append(list(eval(arr[i]).values())[0])\n",
    "    ser_buf = pd.Series(data)\n",
    "    df[features[k]] = ser_buf"
   ]
  },
  {
   "cell_type": "code",
   "execution_count": 306,
   "metadata": {},
   "outputs": [
    {
     "data": {
      "text/html": [
       "<div>\n",
       "<style scoped>\n",
       "    .dataframe tbody tr th:only-of-type {\n",
       "        vertical-align: middle;\n",
       "    }\n",
       "\n",
       "    .dataframe tbody tr th {\n",
       "        vertical-align: top;\n",
       "    }\n",
       "\n",
       "    .dataframe thead th {\n",
       "        text-align: right;\n",
       "    }\n",
       "</style>\n",
       "<table border=\"1\" class=\"dataframe\">\n",
       "  <thead>\n",
       "    <tr style=\"text-align: right;\">\n",
       "      <th></th>\n",
       "      <th>published</th>\n",
       "      <th>title</th>\n",
       "      <th>author</th>\n",
       "    </tr>\n",
       "  </thead>\n",
       "  <tbody>\n",
       "    <tr>\n",
       "      <th>0</th>\n",
       "      <td>{'$date': '2012-08-13T22:54:53.510Z'}</td>\n",
       "      <td>Medium Terms of Service – Medium Policy – Medium</td>\n",
       "      <td>{'name': None, 'url': 'https://medium.com/@Med...</td>\n",
       "    </tr>\n",
       "    <tr>\n",
       "      <th>1</th>\n",
       "      <td>{'$date': '2015-08-03T07:44:50.331Z'}</td>\n",
       "      <td>Amendment to Medium Terms of Service Applicabl...</td>\n",
       "      <td>{'name': None, 'url': 'https://medium.com/@Med...</td>\n",
       "    </tr>\n",
       "    <tr>\n",
       "      <th>2</th>\n",
       "      <td>{'$date': '2017-02-05T13:08:17.410Z'}</td>\n",
       "      <td>走入山與海之間：閩東大刀會和兩岸走私 – Yun-Chen Chien（簡韻真） – Medium</td>\n",
       "      <td>{'name': None, 'url': 'https://medium.com/@ael...</td>\n",
       "    </tr>\n",
       "    <tr>\n",
       "      <th>3</th>\n",
       "      <td>{'$date': '2017-05-06T08:16:30.776Z'}</td>\n",
       "      <td>How fast can a camera get? – What comes to min...</td>\n",
       "      <td>{'name': None, 'url': 'https://medium.com/@vai...</td>\n",
       "    </tr>\n",
       "    <tr>\n",
       "      <th>4</th>\n",
       "      <td>{'$date': '2017-06-04T14:46:25.772Z'}</td>\n",
       "      <td>A game for the lonely fox – What comes to mind...</td>\n",
       "      <td>{'name': None, 'url': 'https://medium.com/@vai...</td>\n",
       "    </tr>\n",
       "  </tbody>\n",
       "</table>\n",
       "</div>"
      ],
      "text/plain": [
       "                               published  \\\n",
       "0  {'$date': '2012-08-13T22:54:53.510Z'}   \n",
       "1  {'$date': '2015-08-03T07:44:50.331Z'}   \n",
       "2  {'$date': '2017-02-05T13:08:17.410Z'}   \n",
       "3  {'$date': '2017-05-06T08:16:30.776Z'}   \n",
       "4  {'$date': '2017-06-04T14:46:25.772Z'}   \n",
       "\n",
       "                                               title  \\\n",
       "0   Medium Terms of Service – Medium Policy – Medium   \n",
       "1  Amendment to Medium Terms of Service Applicabl...   \n",
       "2  走入山與海之間：閩東大刀會和兩岸走私 – Yun-Chen Chien（簡韻真） – Medium   \n",
       "3  How fast can a camera get? – What comes to min...   \n",
       "4  A game for the lonely fox – What comes to mind...   \n",
       "\n",
       "                                              author  \n",
       "0  {'name': None, 'url': 'https://medium.com/@Med...  \n",
       "1  {'name': None, 'url': 'https://medium.com/@Med...  \n",
       "2  {'name': None, 'url': 'https://medium.com/@ael...  \n",
       "3  {'name': None, 'url': 'https://medium.com/@vai...  \n",
       "4  {'name': None, 'url': 'https://medium.com/@vai...  "
      ]
     },
     "execution_count": 306,
     "metadata": {},
     "output_type": "execute_result"
    }
   ],
   "source": [
    "df.head()"
   ]
  },
  {
   "cell_type": "code",
   "execution_count": null,
   "metadata": {},
   "outputs": [],
   "source": []
  }
 ],
 "metadata": {
  "kernelspec": {
   "display_name": "Python 3",
   "language": "python",
   "name": "python3"
  },
  "language_info": {
   "codemirror_mode": {
    "name": "ipython",
    "version": 3
   },
   "file_extension": ".py",
   "mimetype": "text/x-python",
   "name": "python",
   "nbconvert_exporter": "python",
   "pygments_lexer": "ipython3",
   "version": "3.6.5"
  }
 },
 "nbformat": 4,
 "nbformat_minor": 2
}
